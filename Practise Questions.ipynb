{
 "cells": [
  {
   "cell_type": "code",
   "execution_count": 1,
   "id": "2e25c4c6",
   "metadata": {},
   "outputs": [
    {
     "name": "stdout",
     "output_type": "stream",
     "text": [
      "Original number: -12345\n",
      "Reversed number: -54321\n"
     ]
    }
   ],
   "source": [
    "#### Q1 - How to Reverse an integer without using string functions or slicing. ONLY mathematical operations\n",
    "\n",
    "def reverse_integer(num):\n",
    "    reversed_num = 0\n",
    "    is_negative = num < 0  # Check if the number is negative\n",
    "    num = abs(num)  # Work with the absolute value of the number\n",
    "\n",
    "    while num > 0:\n",
    "        digit = num % 10  # Extract the last digit\n",
    "        reversed_num = reversed_num * 10 + digit  # Build the reversed number\n",
    "        num //= 10  # Remove the last digit\n",
    "\n",
    "    # Restore the sign if the original number was negative\n",
    "    return -reversed_num if is_negative else reversed_num\n",
    "\n",
    "# Example usage\n",
    "number = -12345\n",
    "reversed_number = reverse_integer(number)\n",
    "print(f\"Original number: {number}\")\n",
    "print(f\"Reversed number: {reversed_number}\")"
   ]
  },
  {
   "cell_type": "code",
   "execution_count": 2,
   "id": "8ed6c32e",
   "metadata": {},
   "outputs": [
    {
     "name": "stdout",
     "output_type": "stream",
     "text": [
      "!dlroW ,olleH\n",
      "!dlroW ,olleH\n",
      "!dlroW ,olleH\n",
      "!dlroW ,olleH\n"
     ]
    }
   ],
   "source": [
    "#### Q2 - how to reverse string?\n",
    "\n",
    "# 1)\n",
    "original_string = \"Hello, World!\"\n",
    "reversed_string = original_string[::-1]\n",
    "print(reversed_string)\n",
    "\n",
    "# 2)\n",
    "def reverse_string(input_string):\n",
    "    reversed_string = \"\"\n",
    "    for char in input_string:\n",
    "        reversed_string = char + reversed_string\n",
    "    return reversed_string\n",
    "\n",
    "original_string = \"Hello, World!\"\n",
    "print(reverse_string(original_string))\n",
    "\n",
    "# 3)\n",
    "original_string = \"Hello, World!\"\n",
    "reversed_string = ''.join(reversed(original_string))\n",
    "print(reversed_string)\n",
    "\n",
    "# 4)\n",
    "def reverse_string(input_string):\n",
    "    reversed_string = \"\"\n",
    "    index = len(input_string) - 1\n",
    "    while index >= 0:\n",
    "        reversed_string += input_string[index]\n",
    "        index -= 1\n",
    "    return reversed_string\n",
    "\n",
    "original_string = \"Hello, World!\"\n",
    "print(reverse_string(original_string))"
   ]
  },
  {
   "cell_type": "code",
   "execution_count": 3,
   "id": "61fbf359",
   "metadata": {},
   "outputs": [
    {
     "name": "stdout",
     "output_type": "stream",
     "text": [
      "('This', 'is')\n",
      "('is', 'an')\n",
      "('an', 'example')\n",
      "('example', 'paragraph')\n",
      "('paragraph', 'for')\n",
      "('for', 'generating')\n",
      "('generating', 'bigrams.')\n"
     ]
    }
   ],
   "source": [
    "#### Q3 - Print all bigrams from the given paragraph\n",
    "\n",
    "def print_bigrams(paragraph):\n",
    "    # Split the paragraph into words\n",
    "    words = paragraph.split()\n",
    "    \n",
    "    # Generate bigrams\n",
    "    bigrams = [(words[i], words[i+1]) for i in range(len(words) - 1)]\n",
    "    \n",
    "    # Print each bigram\n",
    "    for bigram in bigrams:\n",
    "        print(bigram)\n",
    "\n",
    "# Example usage\n",
    "paragraph = \"This is an example paragraph for generating bigrams.\"\n",
    "print_bigrams(paragraph)"
   ]
  },
  {
   "cell_type": "code",
   "execution_count": 5,
   "id": "33c44ca1",
   "metadata": {},
   "outputs": [
    {
     "name": "stdout",
     "output_type": "stream",
     "text": [
      "Group A: [{'id': 1, 'category': 'A', 'value': 10}, {'id': 3, 'category': 'A', 'value': 30}]\n",
      "Group B: [{'id': 2, 'category': 'B', 'value': 20}, {'id': 4, 'category': 'B', 'value': 40}]\n",
      "Group C: [{'id': 5, 'category': 'C', 'value': 50}]\n"
     ]
    }
   ],
   "source": [
    "#### Q4 - Write a python program to group a list of dictionaries by a common key\n",
    "\n",
    "from collections import defaultdict\n",
    "\n",
    "def group_by_key(data, key):\n",
    "    grouped_data = defaultdict(list)\n",
    "    \n",
    "    for item in data:\n",
    "        # Use the value of the given key to group items\n",
    "        grouped_data[item[key]].append(item)\n",
    "    \n",
    "    return dict(grouped_data)\n",
    "\n",
    "# Example usage\n",
    "data = [\n",
    "    {\"id\": 1, \"category\": \"A\", \"value\": 10},\n",
    "    {\"id\": 2, \"category\": \"B\", \"value\": 20},\n",
    "    {\"id\": 3, \"category\": \"A\", \"value\": 30},\n",
    "    {\"id\": 4, \"category\": \"B\", \"value\": 40},\n",
    "    {\"id\": 5, \"category\": \"C\", \"value\": 50},\n",
    "]\n",
    "\n",
    "# Group by the 'category' key\n",
    "result = group_by_key(data, \"category\")\n",
    "for key, group in result.items():\n",
    "    print(f\"Group {key}: {group}\")\n"
   ]
  },
  {
   "cell_type": "code",
   "execution_count": 6,
   "id": "ed5042cf",
   "metadata": {},
   "outputs": [
    {
     "name": "stdout",
     "output_type": "stream",
     "text": [
      "Largest Common Prefix: fl\n"
     ]
    }
   ],
   "source": [
    "#### Q5 - Write a python function to find the largest common prefix in a list of strings\n",
    "\n",
    "def find_largest_common_prefix(strings):\n",
    "    if not strings:\n",
    "        return \"\"\n",
    "\n",
    "    # Start with the first string as the prefix\n",
    "    prefix = strings[0]\n",
    "\n",
    "    # Compare the prefix with each string in the list\n",
    "    for string in strings[1:]:\n",
    "        # Reduce the prefix until it matches the beginning of the string\n",
    "        while not string.startswith(prefix):\n",
    "            prefix = prefix[:-1]  # Remove the last character from the prefix\n",
    "            if not prefix:\n",
    "                return \"\"  # No common prefix\n",
    "\n",
    "    return prefix\n",
    "\n",
    "# Example usage\n",
    "strings = [\"flower\", \"flow\", \"flight\"]\n",
    "print(\"Largest Common Prefix:\", find_largest_common_prefix(strings))"
   ]
  },
  {
   "cell_type": "code",
   "execution_count": 7,
   "id": "cd8cb60e",
   "metadata": {},
   "outputs": [
    {
     "name": "stdout",
     "output_type": "stream",
     "text": [
      "Unique elements: [1, 2, 3, 4, 5, 6]\n"
     ]
    }
   ],
   "source": [
    "#### Q6 - Find unique elements in a list without using library functions\n",
    "\n",
    "def find_unique_elements(input_list):\n",
    "    unique_elements = []  # Initialize an empty list to store unique elements\n",
    "    \n",
    "    for element in input_list:\n",
    "        # Check if the element is already in the unique_elements list\n",
    "        if element not in unique_elements:\n",
    "            unique_elements.append(element)\n",
    "    \n",
    "    return unique_elements\n",
    "\n",
    "# Example usage\n",
    "input_list = [1, 2, 2, 3, 4, 4, 5, 5, 6]\n",
    "result = find_unique_elements(input_list)\n",
    "print(\"Unique elements:\", result)"
   ]
  },
  {
   "cell_type": "code",
   "execution_count": 9,
   "id": "0822c9de",
   "metadata": {},
   "outputs": [
    {
     "name": "stdout",
     "output_type": "stream",
     "text": [
      "Unique elements: [1, 2, 3, 4, 5, 6]\n",
      "Unique elements: [1, 2, 3, 4, 5, 6]\n",
      "Unique elements: [1, 2, 3, 4, 5, 6]\n"
     ]
    }
   ],
   "source": [
    "#### Q7 - Find unique elements in a list using library functions\n",
    "\n",
    "# 1) \n",
    "def find_unique_with_set(input_list):\n",
    "    return list(set(input_list))\n",
    "input_list = [1, 2, 2, 3, 4, 4, 5, 5, 6]\n",
    "result = find_unique_with_set(input_list)\n",
    "print(\"Unique elements:\", result)\n",
    "\n",
    "# 2)\n",
    "from collections import Counter\n",
    "def find_unique_with_counter(input_list):\n",
    "    return list(Counter(input_list).keys())\n",
    "\n",
    "input_list = [1, 2, 2, 3, 4, 4, 5, 5, 6]\n",
    "result = find_unique_with_counter(input_list)\n",
    "print(\"Unique elements:\", result)\n",
    "\n",
    "# 3) \n",
    "import numpy as np\n",
    "def find_unique_with_numpy(input_list):\n",
    "    return list(np.unique(input_list))\n",
    "\n",
    "input_list = [1, 2, 2, 3, 4, 4, 5, 5, 6]\n",
    "result = find_unique_with_numpy(input_list)\n",
    "print(\"Unique elements:\", result)\n"
   ]
  },
  {
   "cell_type": "code",
   "execution_count": 10,
   "id": "5b21a7c9",
   "metadata": {},
   "outputs": [
    {
     "name": "stdout",
     "output_type": "stream",
     "text": [
      "Enter the number of terms in the Fibonacci series: 8\n",
      "Fibonacci Series: [0, 1, 1, 2, 3, 5, 8, 13]\n"
     ]
    }
   ],
   "source": [
    "#### Q8 - Generate fibonacci series for given number\n",
    "\n",
    "def fibonacci(n):\n",
    "    fib_series = []\n",
    "    a, b = 0, 1  # First two Fibonacci numbers\n",
    "    \n",
    "    for _ in range(n):\n",
    "        fib_series.append(a)\n",
    "        a, b = b, a + b  # Update a and b to the next two numbers\n",
    "    \n",
    "    return fib_series\n",
    "\n",
    "# Example usage\n",
    "n = int(input(\"Enter the number of terms in the Fibonacci series: \"))\n",
    "fib_series = fibonacci(n)\n",
    "print(\"Fibonacci Series:\", fib_series)"
   ]
  },
  {
   "cell_type": "code",
   "execution_count": 11,
   "id": "be60f857",
   "metadata": {},
   "outputs": [
    {
     "name": "stdout",
     "output_type": "stream",
     "text": [
      "Character Frequency: {'h': 1, 'e': 1, 'l': 3, 'o': 2, ' ': 1, 'w': 1, 'r': 1, 'd': 1}\n",
      "Character Frequency: {'h': 1, 'e': 1, 'l': 3, 'o': 2, ' ': 1, 'w': 1, 'r': 1, 'd': 1}\n"
     ]
    }
   ],
   "source": [
    "#### Q9 - Find the frequency of characters in a given string\n",
    "\n",
    "# 1)\n",
    "def char_frequency(input_string):\n",
    "    freq_dict = {}\n",
    "    \n",
    "    for char in input_string:\n",
    "        if char in freq_dict:\n",
    "            freq_dict[char] += 1  # Increment frequency\n",
    "        else:\n",
    "            freq_dict[char] = 1   # Initialize frequency    \n",
    "    return freq_dict\n",
    "\n",
    "input_string = \"hello world\"\n",
    "result = char_frequency(input_string)\n",
    "print(\"Character Frequency:\", result)\n",
    "\n",
    "# 2) \n",
    "from collections import Counter\n",
    "def char_frequency(input_string):\n",
    "    return dict(Counter(input_string))\n",
    "\n",
    "input_string = \"hello world\"\n",
    "result = char_frequency(input_string)\n",
    "print(\"Character Frequency:\", result)"
   ]
  },
  {
   "cell_type": "code",
   "execution_count": 12,
   "id": "34d9219c",
   "metadata": {},
   "outputs": [
    {
     "name": "stdout",
     "output_type": "stream",
     "text": [
      "The missing number is: 4\n"
     ]
    }
   ],
   "source": [
    "#### Q10 - Find the missing number from a given Sequence\n",
    "\n",
    "def find_missing_number(sequence):\n",
    "    n = len(sequence) + 1  # As one number is missing, the expected length is n + 1\n",
    "    expected_sum = n * (n + 1) // 2  # Sum of first n numbers\n",
    "    actual_sum = sum(sequence)  # Sum of the given sequence\n",
    "    \n",
    "    return expected_sum - actual_sum\n",
    "\n",
    "# Example usage\n",
    "sequence = [1, 2, 3, 5, 6]  # The missing number is 4\n",
    "missing_number = find_missing_number(sequence)\n",
    "print(\"The missing number is:\", missing_number)"
   ]
  },
  {
   "cell_type": "code",
   "execution_count": 13,
   "id": "1229c0e7",
   "metadata": {},
   "outputs": [
    {
     "name": "stdout",
     "output_type": "stream",
     "text": [
      "Original: [1, 2, [99, 4]]\n",
      "Shallow Copy: [1, 2, [99, 4]]\n",
      "Original: [1, 2, [3, 4]]\n",
      "Deep Copy: [1, 2, [99, 4]]\n"
     ]
    }
   ],
   "source": [
    "#### Q11 - Discuss the differences between shallow copy and deep copy in Python including examples of the same\n",
    "\n",
    "'''\n",
    "In Python, shallow copy and deep copy are two ways to duplicate an object, but they differ in how they handle nested objects \n",
    "(like lists, dictionaries, etc.) inside the original object\n",
    "\n",
    "A shallow copy creates a new object, but does not recursively copy nested objects. Instead, it copies references to the nested \n",
    "objects. This means that if the original object contains other objects (e.g., lists within a list or dictionaries inside a \n",
    "dictionary), only the references to these inner objects are copied, not the actual objects themselves.\n",
    "How It Works:The outermost object is copied.For nested objects (like lists or dictionaries), only their references are copied, \n",
    "so the nested objects are still shared between the original and the copied object.\n",
    "\n",
    "A deep copy creates a new object and recursively copies all objects found within the original object, including nested objects.\n",
    "This ensures that the copied object is completely independent of the original, with no shared references between the original \n",
    "and the copy.\n",
    "How It Works: The outermost object is copied. All nested objects are also copied recursively, meaning that changes to the \n",
    "nested objects in the copied object do not affect the original object.\n",
    "'''\n",
    "\n",
    "import copy\n",
    "# Original object with a nested list\n",
    "original = [1, 2, [3, 4]]\n",
    "# Shallow copy\n",
    "shallow_copied = copy.copy(original)\n",
    "# Modify the nested list in the copied object\n",
    "shallow_copied[2][0] = 99\n",
    "print(\"Original:\", original)         # Output: [1, 2, [99, 4]]\n",
    "print(\"Shallow Copy:\", shallow_copied)  # Output: [1, 2, [99, 4]]\n",
    "\n",
    "import copy\n",
    "# Original object with a nested list\n",
    "original = [1, 2, [3, 4]]\n",
    "# Deep copy\n",
    "deep_copied = copy.deepcopy(original)\n",
    "# Modify the nested list in the copied object\n",
    "deep_copied[2][0] = 99\n",
    "print(\"Original:\", original)         # Output: [1, 2, [3, 4]]\n",
    "print(\"Deep Copy:\", deep_copied)     # Output: [1, 2, [99, 4]]"
   ]
  },
  {
   "cell_type": "code",
   "execution_count": 3,
   "id": "136fdbdc",
   "metadata": {},
   "outputs": [
    {
     "name": "stdout",
     "output_type": "stream",
     "text": [
      "[1, 3]\n"
     ]
    }
   ],
   "source": [
    "#### Q12) Given an array, find all the duplicates in this array? For example: input: [1,2,3,1,3,6,5] output: [1,3]\n",
    "\n",
    "list = [1,2,3,1,3,6,5]\n",
    "not_dup=[]\n",
    "res=[]\n",
    "for i in list:\n",
    "  if i in not_dup:\n",
    "    res.append(i)\n",
    "  else:\n",
    "    not_dup.append(i)\n",
    "print(res)"
   ]
  },
  {
   "cell_type": "code",
   "execution_count": 8,
   "id": "f1fe4cca",
   "metadata": {},
   "outputs": [
    {
     "name": "stdout",
     "output_type": "stream",
     "text": [
      "168\n",
      "168\n"
     ]
    }
   ],
   "source": [
    "#### Q13) Given an integer array, return the maximum product of any three numbers in the array?\n",
    "\n",
    "import heapq\n",
    "def max_three(arr):\n",
    "    a = heapq.nlargest(3, arr) # largerst 3 numbers for postive case\n",
    "    b = heapq.nsmallest(2, arr) # for negative case\n",
    "    return max(a[2]*a[1]*a[0], b[1]*b[0]*a[0])\n",
    "\n",
    "def alter_max_three(nums):\n",
    "    nums.sort()\n",
    "    max_product1 = nums[-1] * nums[-2] * nums[-3]\n",
    "    max_product2 = nums[0] * nums[1] * nums[-1]\n",
    "    return max(max_product1,max_product2)\n",
    "\n",
    "y = [2,5,4,7,-3,-2,-8]\n",
    "print(max_three(y))\n",
    "print(alter_max_three(y))"
   ]
  },
  {
   "cell_type": "code",
   "execution_count": 14,
   "id": "ca5df251",
   "metadata": {},
   "outputs": [
    {
     "name": "stdout",
     "output_type": "stream",
     "text": [
      "18\n",
      "19\n"
     ]
    }
   ],
   "source": [
    "#### Q14) Given an integer array, find the sum of the largest contiguous subarray within the array. \n",
    "####      For example, given the array A = [0,-1,-5,-2,3,14] it should return 17 because of [3,14]. \n",
    "####      Note that if all the elements are negative it should return zero.\n",
    "\n",
    "def max_subarray(arr):\n",
    "  n = len(arr)\n",
    "  max_sum = arr[0] #max\n",
    "  curr_sum = 0 \n",
    "  for i in range(n):\n",
    "    curr_sum += arr[i]\n",
    "    max_sum = max(max_sum, curr_sum)\n",
    "    if curr_sum <0:\n",
    "      curr_sum  = 0\n",
    "  return max_sum    \n",
    "\n",
    "#### Dont use the below function\n",
    "def alt_subarray(arr):\n",
    "    arr.sort()\n",
    "    b =arr[-1] + arr[-2]\n",
    "    return b\n",
    "\n",
    "arr = [0,-1,-5,-2,3,14,-4,5,-2]\n",
    "y = max_subarray(arr)\n",
    "z = alt_subarray(arr)\n",
    "print(y)\n",
    "print(z)"
   ]
  },
  {
   "cell_type": "code",
   "execution_count": 21,
   "id": "6f931320",
   "metadata": {},
   "outputs": [
    {
     "name": "stdout",
     "output_type": "stream",
     "text": [
      "Enter the value of n: 3\n",
      "Enter the value of k: 2\n",
      "(1, 2)\n",
      "(1, 3)\n",
      "(2, 3)\n"
     ]
    }
   ],
   "source": [
    "#### Q15) Given an integer n and an integer K, output a list of all of the combination of k numbers chosen from 1 to n. \n",
    "####      For example, if n=3 and k=2, return [1,2],[1,3],[2,3]\n",
    "\n",
    "from itertools import combinations\n",
    "def generate_combinations(n, k):\n",
    "    # Generate combinations of k numbers from 1 to n\n",
    "    y = combinations(range(1, n+1), k)\n",
    "    return y\n",
    "\n",
    "# Example usage\n",
    "n = int(input(\"Enter the value of n: \"))\n",
    "k = int(input(\"Enter the value of k: \"))\n",
    "\n",
    "result = generate_combinations(n, k)\n",
    "for combination in result:\n",
    "    print(combination)\n"
   ]
  },
  {
   "cell_type": "code",
   "execution_count": 35,
   "id": "7508158f",
   "metadata": {},
   "outputs": [
    {
     "name": "stdout",
     "output_type": "stream",
     "text": [
      "Enter the number of samples to generate: 35\n"
     ]
    },
    {
     "data": {
      "image/png": "[encoded data removed]",
      "text/plain": [
       "<Figure size 432x288 with 1 Axes>"
      ]
     },
     "metadata": {
      "needs_background": "light"
     },
     "output_type": "display_data"
    }
   ],
   "source": [
    "#### Q16) Write a function to generate N samples from a normal distribution and plot them on the histogram\n",
    "\n",
    "import numpy as np\n",
    "import matplotlib.pyplot as plt\n",
    "import random\n",
    "\n",
    "def generate_normal_samples(n, mean=0, std_dev=1):\n",
    "    \"\"\"\n",
    "    Generate N samples from a normal distribution and plot them on a histogram.\n",
    "\n",
    "    :param n: Number of samples\n",
    "    :param mean: Mean of the normal distribution (default is 0)\n",
    "    :param std_dev: Standard deviation of the normal distribution (default is 1)\n",
    "    \"\"\"\n",
    "    # Generate N samples from a normal distribution\n",
    "    samples = np.random.normal(loc=mean, scale=std_dev, size=n)\n",
    "\n",
    "    # Plotting the histogram\n",
    "    plt.hist(samples, bins=30, edgecolor='black', alpha=0.7)\n",
    "    plt.title(f'Histogram of {n} samples from Normal Distribution')\n",
    "    plt.xlabel('Value')\n",
    "    plt.ylabel('Frequency')\n",
    "    plt.grid(True)\n",
    "    plt.show()\n",
    "\n",
    "# Example usage\n",
    "n = int(input(\"Enter the number of samples to generate: \"))\n",
    "generate_normal_samples(n)\n"
   ]
  },
  {
   "cell_type": "code",
   "execution_count": 36,
   "id": "6e5a44cd",
   "metadata": {},
   "outputs": [
    {
     "data": {
      "text/plain": [
       "'n'"
      ]
     },
     "execution_count": 36,
     "metadata": {},
     "output_type": "execute_result"
    }
   ],
   "source": [
    "#### Q16) Given a string, return the first recurring character in it, or “None” if there is no recurring character. \n",
    "####      Example: input = \"pythoninterviewquestion\" , output = \"n\"\n",
    "\n",
    "input_string = \"pythoninterviewquestion\"\n",
    "def first_recurring(input_str):\n",
    "  a_str = \"\"\n",
    "  for letter in input_str:\n",
    "    a_str = a_str + letter\n",
    "    if a_str.count(letter) > 1:\n",
    "      return letter\n",
    "  return None\n",
    "first_recurring(input_string)\n"
   ]
  },
  {
   "cell_type": "code",
   "execution_count": 38,
   "id": "cf886a02",
   "metadata": {},
   "outputs": [
    {
     "name": "stdout",
     "output_type": "stream",
     "text": [
      "          Sales  Profit\n",
      "Category               \n",
      "A           250      50\n",
      "B           450     120\n",
      "C           300      90\n"
     ]
    },
    {
     "name": "stderr",
     "output_type": "stream",
     "text": [
      "C:\\Users\\basil.p.sony\\AppData\\Local\\Temp\\ipykernel_37052\\4110050508.py:10: FutureWarning: Indexing with multiple keys (implicitly converted to a tuple of keys) will be deprecated, use a list instead.\n",
      "  grouped = df.groupby(['Category'])['Sales','Profit'].sum()\n"
     ]
    }
   ],
   "source": [
    "#### Q17) From data frame group by and sum a column/ multiple columns\n",
    "\n",
    "import pandas as pd\n",
    "data1 = {\n",
    "    'Category': ['A', 'B', 'A', 'B', 'C'],\n",
    "    'Sales': [100, 200, 150, 250, 300],\n",
    "    'Profit': [30, 50, 20, 70, 90]\n",
    "}\n",
    "df = pd.DataFrame(data1)\n",
    "grouped = df.groupby(['Category'])['Sales','Profit'].sum()\n",
    "print (grouped)"
   ]
  },
  {
   "cell_type": "code",
   "execution_count": 39,
   "id": "9191309d",
   "metadata": {},
   "outputs": [
    {
     "name": "stdout",
     "output_type": "stream",
     "text": [
      "720\n"
     ]
    }
   ],
   "source": [
    "#### Q18) Write function for factorial\n",
    "\n",
    "def fact(n):\n",
    "    a=0\n",
    "    i = n\n",
    "    while i>1:\n",
    "        if a == 0:\n",
    "            a= i*(i-1)\n",
    "        else:\n",
    "            a=a*(i-1)\n",
    "        i= i-1\n",
    "    return a\n",
    "\n",
    "print(fact(6))"
   ]
  },
  {
   "cell_type": "code",
   "execution_count": 28,
   "id": "9ae452c1",
   "metadata": {},
   "outputs": [
    {
     "ename": "SyntaxError",
     "evalue": "invalid syntax (3549398499.py, line 4)",
     "output_type": "error",
     "traceback": [
      "\u001b[1;36m  Input \u001b[1;32mIn [28]\u001b[1;36m\u001b[0m\n\u001b[1;33m    pip install tensorflow\u001b[0m\n\u001b[1;37m        ^\u001b[0m\n\u001b[1;31mSyntaxError\u001b[0m\u001b[1;31m:\u001b[0m invalid syntax\n"
     ]
    }
   ],
   "source": [
    "#### Q12) Write a Python code for creating a Neural Network Using TensorFlow or PyTorch.\n",
    "\n",
    "# 1) Using Tensor Flow\n",
    "pip install tensorflow\n",
    "import tensorflow as tf\n",
    "from tensorflow.keras.models import Sequential\n",
    "from tensorflow.keras.layers import Dense, Flatten\n",
    "from tensorflow.keras.datasets import mnist\n",
    "from tensorflow.keras.utils import to_categorical\n",
    "\n",
    "# Step 1: Load and Preprocess the Data\n",
    "# Load the MNIST dataset (train and test data)\n",
    "(x_train, y_train), (x_test, y_test) = mnist.load_data()\n",
    "\n",
    "# Normalize the data (scale values between 0 and 1)\n",
    "x_train = x_train.astype('float32') / 255\n",
    "x_test = x_test.astype('float32') / 255\n",
    "\n",
    "# One-hot encode the labels (convert to binary class matrix)\n",
    "y_train = to_categorical(y_train, 10)\n",
    "y_test = to_categorical(y_test, 10)\n",
    "\n",
    "# Step 2: Build the Neural Network Model\n",
    "model = Sequential()\n",
    "\n",
    "# Flatten the input data (28x28 pixels) into a vector of size 784\n",
    "model.add(Flatten(input_shape=(28, 28)))\n",
    "\n",
    "# Fully connected layer with 128 neurons and ReLU activation\n",
    "model.add(Dense(128, activation='relu'))\n",
    "\n",
    "# Output layer with 10 neurons (one for each digit)\n",
    "model.add(Dense(10, activation='softmax'))\n",
    "\n",
    "# Step 3: Compile the Model\n",
    "model.compile(optimizer='adam', \n",
    "              loss='categorical_crossentropy', \n",
    "              metrics=['accuracy'])\n",
    "\n",
    "# Step 4: Train the Model\n",
    "model.fit(x_train, y_train, epochs=5, batch_size=32, validation_data=(x_test, y_test))\n",
    "\n",
    "# Step 5: Evaluate the Model\n",
    "test_loss, test_accuracy = model.evaluate(x_test, y_test, verbose=2)\n",
    "print(f'Test Accuracy: {test_accuracy}')\n",
    "\n",
    "\n",
    "# 2) Using Pytorch\n",
    "import torch\n",
    "import torch.nn as nn\n",
    "import torch.optim as optim\n",
    "from torchvision import datasets, transforms\n",
    "from torch.utils.data import DataLoader\n",
    "\n",
    "# Step 1: Load and Preprocess the Data\n",
    "transform = transforms.Compose([\n",
    "    transforms.ToTensor(),\n",
    "    transforms.Normalize((0.5,), (0.5,))\n",
    "])\n",
    "\n",
    "# Download MNIST data and apply transformation (converting to tensor and normalizing)\n",
    "train_data = datasets.MNIST(root='./data', train=True, download=True, transform=transform)\n",
    "test_data = datasets.MNIST(root='./data', train=False, download=True, transform=transform)\n",
    "\n",
    "# Create DataLoader for batching\n",
    "train_loader = DataLoader(train_data, batch_size=64, shuffle=True)\n",
    "test_loader = DataLoader(test_data, batch_size=64, shuffle=False)\n",
    "\n",
    "# Step 2: Define the Neural Network Model\n",
    "class SimpleNN(nn.Module):\n",
    "    def __init__(self):\n",
    "        super(SimpleNN, self).__init__()\n",
    "        # Define layers\n",
    "        self.flatten = nn.Flatten()\n",
    "        self.fc1 = nn.Linear(28*28, 128)  # First fully connected layer\n",
    "        self.fc2 = nn.Linear(128, 10)     # Output layer (10 classes)\n",
    "        self.relu = nn.ReLU()\n",
    "        self.softmax = nn.Softmax(dim=1)\n",
    "        \n",
    "    def forward(self, x):\n",
    "        x = self.flatten(x)                # Flatten the image\n",
    "        x = self.relu(self.fc1(x))         # Apply ReLU activation\n",
    "        x = self.softmax(self.fc2(x))      # Apply softmax for output probabilities\n",
    "        return x\n",
    "\n",
    "# Instantiate the model\n",
    "model = SimpleNN()\n",
    "\n",
    "# Step 3: Set up the loss function and optimizer\n",
    "criterion = nn.CrossEntropyLoss()  # Cross entropy loss for multi-class classification\n",
    "optimizer = optim.Adam(model.parameters(), lr=0.001)\n",
    "\n",
    "# Step 4: Train the Model\n",
    "epochs = 5\n",
    "for epoch in range(epochs):\n",
    "    model.train()\n",
    "    running_loss = 0.0\n",
    "    correct = 0\n",
    "    total = 0\n",
    "    for inputs, labels in train_loader:\n",
    "        optimizer.zero_grad()           # Clear previous gradients\n",
    "        outputs = model(inputs)         # Forward pass\n",
    "        loss = criterion(outputs, labels)  # Calculate loss\n",
    "        loss.backward()                 # Backpropagation\n",
    "        optimizer.step()                # Optimize model weights\n",
    "        \n",
    "        running_loss += loss.item()     # Accumulate loss for this batch\n",
    "        _, predicted = torch.max(outputs, 1)\n",
    "        total += labels.size(0)\n",
    "        correct += (predicted == labels).sum().item()\n",
    "    \n",
    "    print(f'Epoch {epoch+1}/{epochs}, Loss: {running_loss/len(train_loader)}, Accuracy: {100 * correct / total}%')\n",
    "\n",
    "# Step 5: Evaluate the Model\n",
    "model.eval()\n",
    "correct = 0\n",
    "total = 0\n",
    "with torch.no_grad():\n",
    "    for inputs, labels in test_loader:\n",
    "        outputs = model(inputs)\n",
    "        _, predicted = torch.max(outputs, 1)\n",
    "        total += labels.size(0)\n",
    "        correct += (predicted == labels).sum().item()\n",
    "\n",
    "print(f'Test Accuracy: {100 * correct / total}%')\n"
   ]
  },
  {
   "cell_type": "code",
   "execution_count": null,
   "id": "d3ff39f0",
   "metadata": {},
   "outputs": [],
   "source": [
    "#### Q13) Write a Python code for implementing a Simple Linear Regression Model.\n",
    "\n",
    "import numpy as np\n",
    "import matplotlib.pyplot as plt\n",
    "\n",
    "# Step 1: Prepare the Data (Sample Data)\n",
    "# X represents the independent variable (input), Y is the dependent variable (output)\n",
    "X = np.array([1, 2, 3, 4, 5])  # Independent variable (feature)\n",
    "Y = np.array([1, 2, 1.3, 3.75, 2.25])  # Dependent variable (target)\n",
    "\n",
    "# Step 2: Calculate the coefficients (m and b)\n",
    "# Using the formulas:\n",
    "# m = (n * Σ(XY) - ΣX * ΣY) / (n * Σ(X^2) - (ΣX)^2)\n",
    "# b = (ΣY - m * ΣX) / n\n",
    "\n",
    "n = len(X)  # Number of data points\n",
    "X_mean = np.mean(X)\n",
    "Y_mean = np.mean(Y)\n",
    "\n",
    "# Compute m (slope)\n",
    "m = np.sum((X - X_mean) * (Y - Y_mean)) / np.sum((X - X_mean) ** 2)\n",
    "\n",
    "# Compute b (intercept)\n",
    "b = Y_mean - m * X_mean\n",
    "\n",
    "# Step 3: Make Predictions using the model (Y = mX + b)\n",
    "Y_pred = m * X + b\n",
    "\n",
    "# Step 4: Visualize the Data and the Regression Line\n",
    "plt.scatter(X, Y, color='blue', label='Data points')  # Scatter plot of the data\n",
    "plt.plot(X, Y_pred, color='red', label='Regression line')  # Regression line\n",
    "plt.xlabel('X (Independent Variable)')\n",
    "plt.ylabel('Y (Dependent Variable)')\n",
    "plt.title('Simple Linear Regression')\n",
    "plt.legend()\n",
    "plt.grid(True)\n",
    "plt.show()\n",
    "\n",
    "# Output the coefficients and the predictions\n",
    "print(f\"Slope (m): {m}\")\n",
    "print(f\"Intercept (b): {b}\")\n",
    "print(f\"Predictions: {Y_pred}\")\n",
    "\n",
    "\n",
    "####### Implementation using sklearn\n",
    "from sklearn.linear_model import LinearRegression\n",
    "import numpy as np\n",
    "import matplotlib.pyplot as plt\n",
    "\n",
    "# Prepare the Data\n",
    "X = np.array([1, 2, 3, 4, 5]).reshape(-1, 1)  # X should be 2D for scikit-learn\n",
    "Y = np.array([1, 2, 1.3, 3.75, 2.25])\n",
    "\n",
    "# Create a Linear Regression model and fit it to the data\n",
    "model = LinearRegression()\n",
    "model.fit(X, Y)\n",
    "\n",
    "# Get the slope (m) and intercept (b)\n",
    "m = model.coef_[0]\n",
    "b = model.intercept_\n",
    "\n",
    "# Make predictions\n",
    "Y_pred = model.predict(X)\n",
    "\n",
    "# Visualize the data and the regression line\n",
    "plt.scatter(X, Y, color='blue', label='Data points')\n",
    "plt.plot(X, Y_pred, color='red', label='Regression line')\n",
    "plt.xlabel('X (Independent Variable)')\n",
    "plt.ylabel('Y (Dependent Variable)')\n",
    "plt.title('Simple Linear Regression using Scikit-learn')\n",
    "plt.legend()\n",
    "plt.grid(True)\n",
    "plt.show()\n",
    "\n",
    "# Output the coefficients\n",
    "print(f\"Slope (m): {m}\")\n",
    "print(f\"Intercept (b): {b}\")\n",
    "print(f\"Predictions: {Y_pred}\")\n"
   ]
  },
  {
   "cell_type": "code",
   "execution_count": null,
   "id": "0dca6255",
   "metadata": {},
   "outputs": [],
   "source": [
    "#### Q14 - Write a Python script to implement the K-Means clustering algorithm using scikit-learn.\n",
    "\n",
    "import numpy as np\n",
    "import matplotlib.pyplot as plt\n",
    "from sklearn.cluster import KMeans\n",
    "from sklearn.datasets import make_blobs\n",
    "\n",
    "# Step 1: Prepare the Data\n",
    "# Create a sample dataset with 2 features and 3 clusters\n",
    "X, y = make_blobs(n_samples=300, centers=3, random_state=42)\n",
    "\n",
    "# Step 2: Initialize KMeans\n",
    "# Define the KMeans model with 3 clusters (K=3)\n",
    "kmeans = KMeans(n_clusters=3, random_state=42)\n",
    "\n",
    "# Step 3: Fit the model to the data\n",
    "kmeans.fit(X)\n",
    "\n",
    "# Step 4: Predict the clusters for each data point\n",
    "y_kmeans = kmeans.predict(X)\n",
    "\n",
    "# Step 5: Visualize the Clusters and Centroids\n",
    "plt.figure(figsize=(8,6))\n",
    "\n",
    "# Scatter plot of the data points, colored by the assigned cluster\n",
    "plt.scatter(X[:, 0], X[:, 1], c=y_kmeans, s=50, cmap='viridis')\n",
    "\n",
    "# Plot the centroids\n",
    "centroids = kmeans.cluster_centers_\n",
    "plt.scatter(centroids[:, 0], centroids[:, 1], c='red', s=200, marker='X', label='Centroids')\n",
    "\n",
    "# Labels and title\n",
    "plt.title('K-Means Clustering (K=3)')\n",
    "plt.xlabel('Feature 1')\n",
    "plt.ylabel('Feature 2')\n",
    "plt.legend()\n",
    "\n",
    "plt.show()\n",
    "\n",
    "# Output the cluster centers and labels\n",
    "print(\"Cluster Centers:\\n\", centroids)\n",
    "print(\"\\nCluster Labels:\\n\", y_kmeans)"
   ]
  }
 ],
 "metadata": {
  "kernelspec": {
   "display_name": "Python 3 (ipykernel)",
   "language": "python",
   "name": "python3"
  },
  "language_info": {
   "codemirror_mode": {
    "name": "ipython",
    "version": 3
   },
   "file_extension": ".py",
   "mimetype": "text/x-python",
   "name": "python",
   "nbconvert_exporter": "python",
   "pygments_lexer": "ipython3",
   "version": "3.9.12"
  }
 },
 "nbformat": 4,
 "nbformat_minor": 5
}
